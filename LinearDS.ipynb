{
 "cells": [
  {
   "cell_type": "code",
   "execution_count": 2,
   "metadata": {},
   "outputs": [
    {
     "name": "stdout",
     "output_type": "stream",
     "text": [
      "Pairs with sum 9:\n",
      "(4, 5)\n",
      "(7, 2)\n",
      "(5, 4)\n",
      "(2, 7)\n"
     ]
    }
   ],
   "source": [
    "#Q1.Write a program to find all pairs of an integer array whose sum is equal to a given number?\n",
    "\n",
    "\n",
    "def find_pairs_with_sum(arr, target_sum):\n",
    "    pairs = []\n",
    "    seen = set()\n",
    "\n",
    "    for num in arr:\n",
    "        complement = target_sum - num\n",
    "\n",
    "        if complement in seen:\n",
    "            pairs.append((num, complement))\n",
    "\n",
    "        seen.add(num)\n",
    "\n",
    "    return pairs\n",
    "\n",
    "def main():\n",
    "    try:\n",
    "        input_array = input(\"Enter integers separated by spaces: \").split()\n",
    "        arr = [int(num) for num in input_array]\n",
    "\n",
    "        target_sum = int(input(\"Enter the target sum: \"))\n",
    "\n",
    "        result = find_pairs_with_sum(arr, target_sum)\n",
    "\n",
    "        if result:\n",
    "            print(\"Pairs with sum {}:\".format(target_sum))\n",
    "            for pair in result:\n",
    "                print(pair)\n",
    "        else:\n",
    "            print(\"No pairs found with sum {}.\".format(target_sum))\n",
    "    \n",
    "    except ValueError:\n",
    "        print(\"Invalid input. Please enter integers separated by spaces.\")\n",
    "\n",
    "if __name__ == \"__main__\":\n",
    "    main()\n"
   ]
  },
  {
   "cell_type": "code",
   "execution_count": 3,
   "metadata": {},
   "outputs": [
    {
     "name": "stdout",
     "output_type": "stream",
     "text": [
      "Reversed array: [3, 7, 8, 6, 1, 2, 9, 4, 5]\n"
     ]
    }
   ],
   "source": [
    "#Q2.  Write a program to reverse an array in place? In place means you cannot create a new array. You have to update the original array.\n",
    "\n",
    "\n",
    "def reverse_array_in_place(arr):\n",
    "    left, right = 0, len(arr) - 1\n",
    "\n",
    "    while left < right:\n",
    "        arr[left], arr[right] = arr[right], arr[left]\n",
    "        left += 1\n",
    "        right -= 1\n",
    "\n",
    "def main():\n",
    "    try:\n",
    "        input_array = input(\"Enter integers separated by spaces: \").split()\n",
    "        arr = [int(num) for num in input_array]\n",
    "\n",
    "        reverse_array_in_place(arr)\n",
    "\n",
    "        print(\"Reversed array:\", arr)\n",
    "    \n",
    "    except ValueError:\n",
    "        print(\"Invalid input. Please enter integers separated by spaces.\")\n",
    "\n",
    "if __name__ == \"__main__\":\n",
    "    main()\n"
   ]
  },
  {
   "cell_type": "code",
   "execution_count": 8,
   "metadata": {},
   "outputs": [
    {
     "name": "stdout",
     "output_type": "stream",
     "text": [
      "karunya and nyakaru are rotations of each other.\n"
     ]
    }
   ],
   "source": [
    "#Q3. Write a program to check if two strings are a rotation of each other?\n",
    "\n",
    "\n",
    "def are_rotations(str1, str2):\n",
    "    # Check if the lengths of the two strings are the same\n",
    "    if len(str1) != len(str2):\n",
    "        return False\n",
    "\n",
    "    # Concatenate str1 with itself\n",
    "    temp = str1 + str1\n",
    "\n",
    "    # Check if str2 is a substring of the concatenated string\n",
    "    if str2 in temp:\n",
    "        return True\n",
    "\n",
    "    return False\n",
    "\n",
    "def main():\n",
    "    try:\n",
    "        str1 = input(\"Enter the first string: \")\n",
    "        str2 = input(\"Enter the second string: \")\n",
    "\n",
    "        if are_rotations(str1, str2):\n",
    "            print(\"{} and {} are rotations of each other.\".format(str1, str2))\n",
    "        else:\n",
    "            print(\"{} and {} are not rotations of each other.\".format(str1, str2))\n",
    "    \n",
    "    except ValueError:\n",
    "        print(\"Invalid input. Please enter valid strings.\")\n",
    "\n",
    "if __name__ == \"__main__\":\n",
    "    main()\n"
   ]
  },
  {
   "cell_type": "code",
   "execution_count": 11,
   "metadata": {},
   "outputs": [
    {
     "name": "stdout",
     "output_type": "stream",
     "text": [
      "First non-repeated character: d\n"
     ]
    }
   ],
   "source": [
    "#Q4. Write a program to print the first non-repeated character from a string?\n",
    "\n",
    "def find_first_non_repeated_char(input_str):\n",
    "    char_count = {}\n",
    "    \n",
    "    # Count the occurrence of each character in the input string\n",
    "    for char in input_str:\n",
    "        if char in char_count:\n",
    "            char_count[char] += 1\n",
    "        else:\n",
    "            char_count[char] = 1\n",
    "\n",
    "    # Find the first non-repeated character\n",
    "    for char in input_str:\n",
    "        if char_count[char] == 1:\n",
    "            return char\n",
    "    \n",
    "    # If no non-repeated character is found, return None\n",
    "    return None\n",
    "\n",
    "def main():\n",
    "    try:\n",
    "        input_str = input(\"Enter a string: \")\n",
    "\n",
    "        first_non_repeated_char = find_first_non_repeated_char(input_str)\n",
    "\n",
    "        if first_non_repeated_char:\n",
    "            print(\"First non-repeated character:\", first_non_repeated_char)\n",
    "        else:\n",
    "            print(\"No non-repeated character found in the input string.\")\n",
    "    \n",
    "    except ValueError:\n",
    "        print(\"Invalid input. Please enter a valid string.\")\n",
    "\n",
    "if __name__ == \"__main__\":\n",
    "    main()\n"
   ]
  },
  {
   "cell_type": "code",
   "execution_count": 13,
   "metadata": {},
   "outputs": [
    {
     "name": "stdout",
     "output_type": "stream",
     "text": [
      "Move disk 1 from S to D\n",
      "Move disk 2 from S to A\n",
      "Move disk 1 from D to A\n",
      "Move disk 3 from S to D\n",
      "Move disk 1 from A to S\n",
      "Move disk 2 from A to D\n",
      "Move disk 1 from S to D\n"
     ]
    }
   ],
   "source": [
    "#Q5. Read about the Tower of Hanoi algorithm. Write a program to implement it.\n",
    "\n",
    "def tower_of_hanoi(n, source, auxiliary, destination):\n",
    "    if n == 1:\n",
    "        print(\"Move disk 1 from {} to {}\".format(source, destination))\n",
    "        return\n",
    "    tower_of_hanoi(n - 1, source, destination, auxiliary)\n",
    "    print(\"Move disk {} from {} to {}\".format(n, source, destination))\n",
    "    tower_of_hanoi(n - 1, auxiliary, source, destination)\n",
    "\n",
    "def main():\n",
    "    try:\n",
    "        n = int(input(\"Enter the number of disks: \"))\n",
    "        if n <= 0:\n",
    "            print(\"Number of disks must be greater than zero.\")\n",
    "        else:\n",
    "            tower_of_hanoi(n, 'S', 'A', 'D')\n",
    "    \n",
    "    except ValueError:\n",
    "        print(\"Invalid input. Please enter a valid integer.\")\n",
    "\n",
    "if __name__ == \"__main__\":\n",
    "    main()\n"
   ]
  },
  {
   "cell_type": "code",
   "execution_count": 9,
   "metadata": {},
   "outputs": [
    {
     "name": "stdout",
     "output_type": "stream",
     "text": [
      "Prefix expression: *+235\n"
     ]
    }
   ],
   "source": [
    "#Q6. Read about infix, prefix, and postfix expressions. Write a program to convert postfix to prefix expression.\n",
    "\n",
    "def is_operator(char):\n",
    "    return char in \"+-*/^\"\n",
    "\n",
    "def postfix_to_prefix(postfix_expression):\n",
    "    stack = []\n",
    "    operator= set(\"+-*/^\")\n",
    "    \n",
    "    for char in postfix_expression:\n",
    "        if not is_operator(char):\n",
    "            stack.append(char)\n",
    "        else:\n",
    "            operand2 = stack.pop()\n",
    "            operand1 = stack.pop()\n",
    "            prefix_expression = char + operand1 + operand2\n",
    "            stack.append(prefix_expression)\n",
    "    \n",
    "    if len(stack) == 1:\n",
    "        return stack[0]\n",
    "    else:\n",
    "        print(\"Invalid postfix expression\")\n",
    "        return None\n",
    "\n",
    "# Get postfix expression from the user\n",
    "postfix_expression = input(\"Enter a postfix expression: \")\n",
    "prefix_expression = postfix_to_prefix(postfix_expression)\n",
    "\n",
    "if prefix_expression:\n",
    "    print(\"Prefix expression:\", prefix_expression)\n"
   ]
  },
  {
   "cell_type": "code",
   "execution_count": 10,
   "metadata": {},
   "outputs": [
    {
     "name": "stdout",
     "output_type": "stream",
     "text": [
      "Infix expression: (((4*2)+6)+8)\n"
     ]
    }
   ],
   "source": [
    "#Q7. Write a program to convert prefix expression to infix expression.\n",
    "\n",
    "\n",
    "def is_operator(char):\n",
    "    return char in \"+-*/^\"\n",
    "\n",
    "def prefix_to_infix(prefix_expression):\n",
    "    stack = []\n",
    "    \n",
    "    # Reverse the prefix expression to process from right to left\n",
    "    prefix_expression = prefix_expression[::-1]\n",
    "    \n",
    "    for char in prefix_expression:\n",
    "        if not is_operator(char):\n",
    "            stack.append(char)\n",
    "        else:\n",
    "            operand1 = stack.pop()\n",
    "            operand2 = stack.pop()\n",
    "            infix_expression = \"(\" + operand1 + char + operand2 + \")\"\n",
    "            stack.append(infix_expression)\n",
    "    \n",
    "    if len(stack) == 1:\n",
    "        return stack[0]\n",
    "    else:\n",
    "        print(\"Invalid prefix expression\")\n",
    "        return None\n",
    "\n",
    "# Get prefix expression from the user\n",
    "prefix_expression = input(\"Enter a prefix expression: \")\n",
    "infix_expression = prefix_to_infix(prefix_expression)\n",
    "\n",
    "if infix_expression:\n",
    "    print(\"Infix expression:\", infix_expression)\n"
   ]
  },
  {
   "cell_type": "code",
   "execution_count": 11,
   "metadata": {},
   "outputs": [
    {
     "name": "stdout",
     "output_type": "stream",
     "text": [
      "Brackets are balanced.\n"
     ]
    }
   ],
   "source": [
    "#Q8. Write a program to check if all the brackets are closed in a given code snippet.\n",
    "\n",
    "\n",
    "def are_brackets_balanced(code):\n",
    "    stack = []\n",
    "    brackets = {'(': ')', '[': ']', '{': '}'}\n",
    "\n",
    "    for char in code:\n",
    "        if char in brackets.keys():\n",
    "            stack.append(char)\n",
    "        elif char in brackets.values():\n",
    "            if not stack:\n",
    "                return False  # No matching opening bracket found\n",
    "            top = stack.pop()\n",
    "            if brackets[top] != char:\n",
    "                return False  # Mismatched brackets\n",
    "    return len(stack) == 0\n",
    "\n",
    "code = input(\"Enter a code snippet: \")\n",
    "if are_brackets_balanced(code):\n",
    "    print(\"Brackets are balanced.\")\n",
    "else:\n",
    "    print(\"Brackets are not balanced.\")\n"
   ]
  },
  {
   "cell_type": "code",
   "execution_count": 12,
   "metadata": {},
   "outputs": [
    {
     "name": "stdout",
     "output_type": "stream",
     "text": [
      "Reversed Stack: ['1', '3', '7', '2', '6', '5']\n"
     ]
    }
   ],
   "source": [
    "#Q9. Write a program to reverse a stack.\n",
    "\n",
    "\n",
    "def reverse_stack(stack):\n",
    "    if not stack:\n",
    "        return  # Empty stack, nothing to reverse\n",
    "\n",
    "    item = stack.pop()\n",
    "    reverse_stack(stack)\n",
    "    insert_at_bottom(stack, item)\n",
    "\n",
    "def insert_at_bottom(stack, item):\n",
    "    if not stack:\n",
    "        stack.append(item)\n",
    "        return\n",
    "    temp = stack.pop()\n",
    "    insert_at_bottom(stack, item)\n",
    "    stack.append(temp)\n",
    "\n",
    "# Input stack\n",
    "input_stack = list(input(\"Enter the elements of the stack separated by spaces: \").split())\n",
    "\n",
    "# Reverse the stack\n",
    "reverse_stack(input_stack)\n",
    "\n",
    "# Print the reversed stack\n",
    "print(\"Reversed Stack:\", input_stack)\n"
   ]
  },
  {
   "cell_type": "code",
   "execution_count": 2,
   "metadata": {},
   "outputs": [
    {
     "name": "stdout",
     "output_type": "stream",
     "text": [
      "\n",
      "Options:\n",
      "1. Push\n",
      "2. Pop\n",
      "3. Get Minimum\n",
      "4. Quit\n",
      "\n",
      "Options:\n",
      "1. Push\n",
      "2. Pop\n",
      "3. Get Minimum\n",
      "4. Quit\n",
      "\n",
      "Options:\n",
      "1. Push\n",
      "2. Pop\n",
      "3. Get Minimum\n",
      "4. Quit\n",
      "\n",
      "Options:\n",
      "1. Push\n",
      "2. Pop\n",
      "3. Get Minimum\n",
      "4. Quit\n",
      "\n",
      "Options:\n",
      "1. Push\n",
      "2. Pop\n",
      "3. Get Minimum\n",
      "4. Quit\n",
      "Minimum value: 12\n",
      "\n",
      "Options:\n",
      "1. Push\n",
      "2. Pop\n",
      "3. Get Minimum\n",
      "4. Quit\n"
     ]
    }
   ],
   "source": [
    "#Q10. Write a program to find the smallest number using a stack.\n",
    "\n",
    "stack = []\n",
    "min_value = None\n",
    "\n",
    "while True:\n",
    "    print(\"\\nOptions:\")\n",
    "    print(\"1. Push\")\n",
    "    print(\"2. Pop\")\n",
    "    print(\"3. Get Minimum\")\n",
    "    print(\"4. Quit\")\n",
    "\n",
    "    choice = input(\"Enter your choice: \")\n",
    "\n",
    "    if choice == \"1\":\n",
    "        value = int(input(\"Enter a number to push onto the stack: \"))\n",
    "        if min_value is None or value <= min_value:\n",
    "            stack.append(min_value)\n",
    "            min_value = value\n",
    "        stack.append(value)\n",
    "    elif choice == \"2\":\n",
    "        if not stack:\n",
    "            print(\"Stack is empty.\")\n",
    "        else:\n",
    "            popped = stack.pop()\n",
    "            if popped == min_value:\n",
    "                min_value = stack.pop() if stack else None\n",
    "            print(\"Popped:\", popped)\n",
    "    elif choice == \"3\":\n",
    "        if min_value is not None:\n",
    "            print(\"Minimum value:\", min_value)\n",
    "        else:\n",
    "            print(\"Stack is empty.\")\n",
    "    elif choice == \"4\":\n",
    "        break\n",
    "    else:\n",
    "        print(\"Invalid choice. Please choose a valid option.\")\n",
    "\n"
   ]
  }
 ],
 "metadata": {
  "kernelspec": {
   "display_name": "Python 3 (ipykernel)",
   "language": "python",
   "name": "python3"
  },
  "language_info": {
   "codemirror_mode": {
    "name": "ipython",
    "version": 3
   },
   "file_extension": ".py",
   "mimetype": "text/x-python",
   "name": "python",
   "nbconvert_exporter": "python",
   "pygments_lexer": "ipython3",
   "version": "3.10.4"
  },
  "orig_nbformat": 4
 },
 "nbformat": 4,
 "nbformat_minor": 2
}
